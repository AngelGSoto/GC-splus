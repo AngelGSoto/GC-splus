{
 "cells": [
  {
   "cell_type": "code",
   "execution_count": null,
   "id": "3da3533f-cefd-4473-a87a-963a00c1dbbd",
   "metadata": {},
   "outputs": [],
   "source": [
    "import astropy.units as u\n",
    "from astropy.coordinates import SkyCoord\n",
    "from astroquery.gaia import Gaia"
   ]
  },
  {
   "cell_type": "code",
   "execution_count": null,
   "id": "615e714a-db80-4402-92ab-75bc6a990b71",
   "metadata": {},
   "outputs": [],
   "source": [
    "def download_xp(ra, dec, radius_arcsec=10):\n",
    "    \"\"\"\n",
    "    Busca fuentes Gaia DR3 con espectros XP cerca de unas coordenadas (en grados).\n",
    "    El radio de búsqueda se define en arcsec.\n",
    "    Retorna el primer source_id con XP spectra, o None si no encuentra.\n",
    "    \"\"\"\n",
    "    # Crear objeto SkyCoord\n",
    "    coord = SkyCoord(ra=ra, dec=dec, unit=(u.degree, u.degree), frame='icrs')\n",
    "\n",
    "    # Radio de búsqueda en arcsec\n",
    "    radius = u.Quantity(radius_arcsec, u.arcsec)\n",
    "\n",
    "    # Búsqueda tipo cono en Gaia\n",
    "    job = Gaia.cone_search_async(coordinate=coord, radius=radius)\n",
    "    r = job.get_results()\n",
    "\n",
    "    # Filtrar por fuentes con XP sampled spectra\n",
    "    sources_with_xp = r[r['has_xp_sampled'] == True]\n",
    "\n",
    "    if len(sources_with_xp) == 0:\n",
    "        print(\"No sources with XP spectra found in the specified area.\")\n",
    "        return None\n",
    "    else:\n",
    "        print(f\"Found {len(sources_with_xp)} sources with XP spectra.\")\n",
    "        first_source_id = sources_with_xp['SOURCE_ID'][0]\n",
    "        print(f\"First source_id with XP spectra: {first_source_id}\")\n",
    "        return first_source_id\n",
    "\n",
    "# Ejemplo de uso:\n",
    "# source_id = download_xp(ra=302.187077, dec=33.94195, radius_arcsec=10)"
   ]
  },
  {
   "cell_type": "code",
   "execution_count": null,
   "id": "fbcc8148-0a2f-4f14-97cf-bb862ebab2bb",
   "metadata": {},
   "outputs": [],
   "source": [
    "id_object1 = download_xp(327.196368, 58.540741, radius_arcsec=100)"
   ]
  },
  {
   "cell_type": "code",
   "execution_count": null,
   "id": "4ebf5bc6-0af1-4a8f-8ab7-e6cf9c4067cf",
   "metadata": {},
   "outputs": [],
   "source": [
    "from gaiaxpy import calibrate\n",
    "from gaiaxpy import plot_spectra\n",
    "calibrated_spectra, sampling = calibrate([id_object1])"
   ]
  },
  {
   "cell_type": "code",
   "execution_count": null,
   "id": "0f5cd9ff-ce20-42e7-8831-23f58392b683",
   "metadata": {},
   "outputs": [],
   "source": [
    "plot_spectra(calibrated_spectra, sampling=sampling)"
   ]
  },
  {
   "cell_type": "code",
   "execution_count": null,
   "id": "7150478f-203c-4829-b39c-d3f85dce2b01",
   "metadata": {},
   "outputs": [],
   "source": [
    "calibrated_spectra, sampling = calibrate([id_object1], output_file='espectros_xp', output_format='csv', save_file=True)"
   ]
  },
  {
   "cell_type": "code",
   "execution_count": null,
   "id": "129cf230-db41-473c-a8ad-ecd889915b2b",
   "metadata": {},
   "outputs": [],
   "source": [
    "calibrated_spectra"
   ]
  },
  {
   "cell_type": "code",
   "execution_count": null,
   "id": "bbcc73bb-b731-4b5c-9679-421573a92da8",
   "metadata": {},
   "outputs": [],
   "source": [
    "for ii, i in zip(sampling, calibrated_spectra[\"flux\"][0]):\n",
    "    print(ii, i)"
   ]
  },
  {
   "cell_type": "code",
   "execution_count": null,
   "id": "3bdead4a-f17b-4a47-9ef5-c7af84803eff",
   "metadata": {},
   "outputs": [],
   "source": []
  },
  {
   "cell_type": "code",
   "execution_count": null,
   "id": "4ea588b1-d5f9-45ed-9977-92ab8a4f3e27",
   "metadata": {},
   "outputs": [],
   "source": []
  }
 ],
 "metadata": {
  "kernelspec": {
   "display_name": "Python 3 (ipykernel)",
   "language": "python",
   "name": "python3"
  },
  "language_info": {
   "codemirror_mode": {
    "name": "ipython",
    "version": 3
   },
   "file_extension": ".py",
   "mimetype": "text/x-python",
   "name": "python",
   "nbconvert_exporter": "python",
   "pygments_lexer": "ipython3",
   "version": "3.12.4"
  }
 },
 "nbformat": 4,
 "nbformat_minor": 5
}

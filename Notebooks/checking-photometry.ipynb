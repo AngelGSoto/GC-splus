{
 "cells": [
  {
   "cell_type": "code",
   "execution_count": 1,
   "id": "d141906b-2143-42f7-9db7-325112d43ce9",
   "metadata": {},
   "outputs": [],
   "source": [
    "import pandas as pd\n",
    "import matplotlib.pyplot as plt\n",
    "from scipy.signal import find_peaks\n",
    "import numpy as np\n",
    "from catalog_utils import region_lines_from_table\n",
    "from astropy.table import Table"
   ]
  },
  {
   "cell_type": "code",
   "execution_count": null,
   "id": "36495cec-6130-4cc6-86ee-1c674645deaa",
   "metadata": {},
   "outputs": [],
   "source": [
    "df = pd.read_csv(\"../TAP_1_J_MNRAS_3444_gc.csv\")"
   ]
  }
 ],
 "metadata": {
  "kernelspec": {
   "display_name": "Python 3 (ipykernel)",
   "language": "python",
   "name": "python3"
  },
  "language_info": {
   "codemirror_mode": {
    "name": "ipython",
    "version": 3
   },
   "file_extension": ".py",
   "mimetype": "text/x-python",
   "name": "python",
   "nbconvert_exporter": "python",
   "pygments_lexer": "ipython3",
   "version": "3.12.4"
  }
 },
 "nbformat": 4,
 "nbformat_minor": 5
}

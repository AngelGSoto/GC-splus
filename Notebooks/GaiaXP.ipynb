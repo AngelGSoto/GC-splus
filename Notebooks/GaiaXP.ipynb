{
 "cells": [
  {
   "cell_type": "markdown",
   "id": "851c44d6-ca8b-443d-8667-3c7b92e70336",
   "metadata": {},
   "source": [
    "## How to use the calibration utility\n",
    "\n",
    "This tool calibrates the input internally-calibrated continuously-represented mean spectra to the absolute system.\n",
    "\n",
    "Information about the units of the variables used in this tutorial can be found here.\n",
    "\n",
    "### Basic usage\n"
   ]
  },
  {
   "cell_type": "code",
   "execution_count": 1,
   "id": "8f387675-fde3-4f82-8b95-4658b82fe34f",
   "metadata": {},
   "outputs": [],
   "source": [
    "# Import the tool\n",
    "from gaiaxpy import calibrate\n",
    "# Path to file with XP CONTINUOUS RAW data (csv, ecsv, fits, or xml)\n",
    "f = '/path/to/XP_CONTINUOUS_RAW.xml'\n"
   ]
  },
  {
   "cell_type": "markdown",
   "id": "f559b3a7-ad40-4046-9e3c-c4f424e892f6",
   "metadata": {},
   "source": [
    "\n",
    "The calibrator returns two different outputs:\n",
    "\n",
    "    1. The calibrated spectra which is a pandas DataFrame.\n",
    "    2. The sampling passed to the function which is a NumPy array. If no sampling is given, the default sampling is returned. The default sampling is generated internally and it corresponds to numpy.arange(336., 1021., 2.) in absolute wavelengths [nm].\n",
    "\n"
   ]
  },
  {
   "cell_type": "code",
   "execution_count": 4,
   "id": "f6327605-54dc-4e9c-ae40-8379f2d4ffdf",
   "metadata": {},
   "outputs": [],
   "source": [
    "#calibrated_spectra, sampling = calibrate(f)\n",
    "#calibrated_spectra"
   ]
  },
  {
   "cell_type": "markdown",
   "id": "3d378c9c-b014-46ac-bf2a-d15bbbe26197",
   "metadata": {},
   "source": [
    "\n",
    "### Running a query\n",
    "\n",
    "The calibrator can also take the parameters 'username' and 'password' for Cosmos credentials, instead of using the interactive login (like in the example below). See that information here.\n"
   ]
  },
  {
   "cell_type": "code",
   "execution_count": 6,
   "id": "1631d3b5-0330-436a-977e-fefcdbe7e0ac",
   "metadata": {},
   "outputs": [
    {
     "name": "stdout",
     "output_type": "stream",
     "text": [
      "INFO: Query finished. [astroquery.utils.tap.core]\n",
      "Done! Output saved to path: ./output_spectra.csv                                                                                                                                        0/2 [00:00<?, ?spec/s]\u001b[0m\r"
     ]
    },
    {
     "data": {
      "text/html": [
       "<div>\n",
       "<style scoped>\n",
       "    .dataframe tbody tr th:only-of-type {\n",
       "        vertical-align: middle;\n",
       "    }\n",
       "\n",
       "    .dataframe tbody tr th {\n",
       "        vertical-align: top;\n",
       "    }\n",
       "\n",
       "    .dataframe thead th {\n",
       "        text-align: right;\n",
       "    }\n",
       "</style>\n",
       "<table border=\"1\" class=\"dataframe\">\n",
       "  <thead>\n",
       "    <tr style=\"text-align: right;\">\n",
       "      <th></th>\n",
       "      <th>source_id</th>\n",
       "      <th>flux</th>\n",
       "      <th>flux_error</th>\n",
       "    </tr>\n",
       "  </thead>\n",
       "  <tbody>\n",
       "    <tr>\n",
       "      <th>0</th>\n",
       "      <td>6764210416151794816</td>\n",
       "      <td>[1.068959543717871e-17, 2.756676777996842e-18,...</td>\n",
       "      <td>[4.5346901315091184e-18, 3.1586045298648383e-1...</td>\n",
       "    </tr>\n",
       "    <tr>\n",
       "      <th>1</th>\n",
       "      <td>6763909901573921792</td>\n",
       "      <td>[4.414260508980976e-18, 2.9685365818495574e-18...</td>\n",
       "      <td>[4.3439136011143566e-18, 3.041180144665869e-18...</td>\n",
       "    </tr>\n",
       "  </tbody>\n",
       "</table>\n",
       "</div>"
      ],
      "text/plain": [
       "             source_id                                               flux  \\\n",
       "0  6764210416151794816  [1.068959543717871e-17, 2.756676777996842e-18,...   \n",
       "1  6763909901573921792  [4.414260508980976e-18, 2.9685365818495574e-18...   \n",
       "\n",
       "                                          flux_error  \n",
       "0  [4.5346901315091184e-18, 3.1586045298648383e-1...  \n",
       "1  [4.3439136011143566e-18, 3.041180144665869e-18...  "
      ]
     },
     "execution_count": 6,
     "metadata": {},
     "output_type": "execute_result"
    }
   ],
   "source": [
    "query_input = \"select TOP 2 source_id from gaiadr3.gaia_source where has_xp_continuous = 'True'\"\n",
    "calibrated_spectra, sampling = calibrate(query_input)\n",
    "calibrated_spectra"
   ]
  },
  {
   "cell_type": "markdown",
   "id": "c1801b59-0b55-490d-9b77-bf2e8b3119f8",
   "metadata": {},
   "source": [
    "\n",
    "### Passing a list\n",
    "\n",
    "A list of sourceIds can be passed to the calibrator as the first argument. The calibrator then will query the Archive for these objects.\n",
    "\n",
    "The calibrator can also take the parameters 'username' and 'password' for Cosmos credentials, instead of using the interactive login (like in the example below). See that information here.\n"
   ]
  },
  {
   "cell_type": "code",
   "execution_count": 8,
   "id": "95c8aaf7-b11d-4f87-9cc4-146adc99fb52",
   "metadata": {},
   "outputs": [],
   "source": [
    "# sources_list = ['48', 44] # The sourceIds can be string or long.\n",
    "# calibrated_spectra, sampling = calibrate(sources_list)\n",
    "# calibrated_spectra"
   ]
  },
  {
   "cell_type": "markdown",
   "id": "f1034dbb-ecc4-4ad3-862c-8e3c06d1c41b",
   "metadata": {},
   "source": [
    "\n",
    "### Advanced usage\n",
    "\n",
    "Additional arguments can be passed to the calibrator.\n",
    "\n",
    "These are:\n",
    "\n",
    "    sampling\n",
    "    truncation\n",
    "    output_path\n",
    "    output_file\n",
    "    output_format\n",
    "    save_file\n",
    "\n",
    "### Sampling\n",
    "\n",
    "A sampling can be passed to the function. This sampling should be an iterable (list, tuple, generator, or preferably a NumPy array). If no sampling is given, the default sampling is used and returned.\n",
    "\n",
    "The default sampling of the calibrator corresponds to numpy.arange(336., 1021., 2.) in absolute wavelengths [nm], and it is generated internally when no sampling is explicitly passed to the function.\n",
    "\n",
    "The minimum value allowed in the sampling is 330, and the maximum is 1050. The program will raise an error is the sampling does not comply.\n",
    "\n",
    "The sampling can be tailored to the needs of specific science cases. For example, the sampling numpy.geomspace(330,1049.9999999999, 361) could be employed to improve the resolution at the blue end.\n"
   ]
  },
  {
   "cell_type": "code",
   "execution_count": 9,
   "id": "e6d9f4ba-27fb-4972-8e11-39ba4ba91107",
   "metadata": {},
   "outputs": [
    {
     "ename": "ValueError",
     "evalue": "The input provided does not match any of the expected input types.",
     "output_type": "error",
     "traceback": [
      "\u001b[0;31m---------------------------------------------------------------------------\u001b[0m",
      "\u001b[0;31mValueError\u001b[0m                                Traceback (most recent call last)",
      "Cell \u001b[0;32mIn[9], line 4\u001b[0m\n\u001b[1;32m      1\u001b[0m \u001b[38;5;28;01mimport\u001b[39;00m \u001b[38;5;21;01mnumpy\u001b[39;00m \u001b[38;5;28;01mas\u001b[39;00m \u001b[38;5;21;01mnp\u001b[39;00m\n\u001b[1;32m      3\u001b[0m sampling \u001b[38;5;241m=\u001b[39m np\u001b[38;5;241m.\u001b[39mgeomspace(\u001b[38;5;241m330\u001b[39m,\u001b[38;5;241m1049.9999999999\u001b[39m, \u001b[38;5;241m361\u001b[39m)\n\u001b[0;32m----> 4\u001b[0m calibrated_spectra_geom, sampling \u001b[38;5;241m=\u001b[39m \u001b[43mcalibrate\u001b[49m\u001b[43m(\u001b[49m\u001b[43mf\u001b[49m\u001b[43m,\u001b[49m\u001b[43m \u001b[49m\u001b[43msampling\u001b[49m\u001b[38;5;241;43m=\u001b[39;49m\u001b[43msampling\u001b[49m\u001b[43m)\u001b[49m\n\u001b[1;32m      5\u001b[0m calibrated_spectra_geom\n",
      "File \u001b[0;32m~/anaconda3/envs/pycloudy_env/lib/python3.8/site-packages/gaiaxpy/calibrator/calibrator.py:65\u001b[0m, in \u001b[0;36mcalibrate\u001b[0;34m(input_object, sampling, truncation, output_path, output_file, output_format, save_file, with_correlation, username, password)\u001b[0m\n\u001b[1;32m     34\u001b[0m \u001b[38;5;28;01mdef\u001b[39;00m \u001b[38;5;21mcalibrate\u001b[39m(input_object: Union[\u001b[38;5;28mlist\u001b[39m, Path, \u001b[38;5;28mstr\u001b[39m], sampling: np\u001b[38;5;241m.\u001b[39mndarray \u001b[38;5;241m=\u001b[39m \u001b[38;5;28;01mNone\u001b[39;00m, truncation: \u001b[38;5;28mbool\u001b[39m \u001b[38;5;241m=\u001b[39m \u001b[38;5;28;01mFalse\u001b[39;00m,\n\u001b[1;32m     35\u001b[0m               output_path: Union[Path, \u001b[38;5;28mstr\u001b[39m] \u001b[38;5;241m=\u001b[39m \u001b[38;5;124m'\u001b[39m\u001b[38;5;124m.\u001b[39m\u001b[38;5;124m'\u001b[39m, output_file: \u001b[38;5;28mstr\u001b[39m \u001b[38;5;241m=\u001b[39m \u001b[38;5;124m'\u001b[39m\u001b[38;5;124moutput_spectra\u001b[39m\u001b[38;5;124m'\u001b[39m, output_format: \u001b[38;5;28mstr\u001b[39m \u001b[38;5;241m=\u001b[39m \u001b[38;5;28;01mNone\u001b[39;00m,\n\u001b[1;32m     36\u001b[0m               save_file: \u001b[38;5;28mbool\u001b[39m \u001b[38;5;241m=\u001b[39m \u001b[38;5;28;01mTrue\u001b[39;00m, with_correlation: \u001b[38;5;28mbool\u001b[39m \u001b[38;5;241m=\u001b[39m \u001b[38;5;28;01mFalse\u001b[39;00m, username: \u001b[38;5;28mstr\u001b[39m \u001b[38;5;241m=\u001b[39m \u001b[38;5;28;01mNone\u001b[39;00m, password: \u001b[38;5;28mstr\u001b[39m \u001b[38;5;241m=\u001b[39m \u001b[38;5;28;01mNone\u001b[39;00m) \u001b[38;5;241m-\u001b[39m\u001b[38;5;241m>\u001b[39m \\\n\u001b[1;32m     37\u001b[0m         (pd\u001b[38;5;241m.\u001b[39mDataFrame, np\u001b[38;5;241m.\u001b[39mndarray):\n\u001b[1;32m     38\u001b[0m \u001b[38;5;250m    \u001b[39m\u001b[38;5;124;03m\"\"\"\u001b[39;00m\n\u001b[1;32m     39\u001b[0m \u001b[38;5;124;03m    Calibration utility: calibrates the input internally-calibrated continuously-represented mean spectra to the\u001b[39;00m\n\u001b[1;32m     40\u001b[0m \u001b[38;5;124;03m    absolute system. An absolute spectrum sampled on a user-defined or default wavelength grid is created for each set\u001b[39;00m\n\u001b[0;32m   (...)\u001b[0m\n\u001b[1;32m     63\u001b[0m \u001b[38;5;124;03m            ndarray: The sampling used to calibrate the input spectra (user-provided or default).\u001b[39;00m\n\u001b[1;32m     64\u001b[0m \u001b[38;5;124;03m    \"\"\"\u001b[39;00m\n\u001b[0;32m---> 65\u001b[0m     \u001b[38;5;28;01mreturn\u001b[39;00m \u001b[43m_calibrate\u001b[49m\u001b[43m(\u001b[49m\u001b[43minput_object\u001b[49m\u001b[43m,\u001b[49m\u001b[43m \u001b[49m\u001b[43msampling\u001b[49m\u001b[43m,\u001b[49m\u001b[43m \u001b[49m\u001b[43mtruncation\u001b[49m\u001b[43m,\u001b[49m\u001b[43m \u001b[49m\u001b[43moutput_path\u001b[49m\u001b[43m,\u001b[49m\u001b[43m \u001b[49m\u001b[43moutput_file\u001b[49m\u001b[43m,\u001b[49m\u001b[43m \u001b[49m\u001b[43moutput_format\u001b[49m\u001b[43m,\u001b[49m\u001b[43m \u001b[49m\u001b[43msave_file\u001b[49m\u001b[43m,\u001b[49m\n\u001b[1;32m     66\u001b[0m \u001b[43m                      \u001b[49m\u001b[43mwith_correlation\u001b[49m\u001b[38;5;241;43m=\u001b[39;49m\u001b[43mwith_correlation\u001b[49m\u001b[43m,\u001b[49m\u001b[43m \u001b[49m\u001b[43musername\u001b[49m\u001b[38;5;241;43m=\u001b[39;49m\u001b[43musername\u001b[49m\u001b[43m,\u001b[49m\u001b[43m \u001b[49m\u001b[43mpassword\u001b[49m\u001b[38;5;241;43m=\u001b[39;49m\u001b[43mpassword\u001b[49m\u001b[43m)\u001b[49m\n",
      "File \u001b[0;32m~/anaconda3/envs/pycloudy_env/lib/python3.8/site-packages/gaiaxpy/calibrator/calibrator.py:91\u001b[0m, in \u001b[0;36m_calibrate\u001b[0;34m(input_object, sampling, truncation, output_path, output_file, output_format, save_file, with_correlation, username, password, bp_model, rp_model, disable_info)\u001b[0m\n\u001b[1;32m     88\u001b[0m validate_wl_sampling(sampling)\n\u001b[1;32m     89\u001b[0m validate_save_arguments(_calibrate\u001b[38;5;241m.\u001b[39m\u001b[38;5;18m__defaults__\u001b[39m[\u001b[38;5;241m3\u001b[39m], output_file, _calibrate\u001b[38;5;241m.\u001b[39m\u001b[38;5;18m__defaults__\u001b[39m[\u001b[38;5;241m4\u001b[39m], output_format,\n\u001b[1;32m     90\u001b[0m                         save_file)\n\u001b[0;32m---> 91\u001b[0m parsed_input_data, extension \u001b[38;5;241m=\u001b[39m \u001b[43mInputReader\u001b[49m\u001b[43m(\u001b[49m\u001b[43minput_object\u001b[49m\u001b[43m,\u001b[49m\u001b[43m \u001b[49m\u001b[43m_calibrate\u001b[49m\u001b[43m,\u001b[49m\u001b[43m \u001b[49m\u001b[43mtruncation\u001b[49m\u001b[38;5;241;43m=\u001b[39;49m\u001b[43mtruncation\u001b[49m\u001b[43m,\u001b[49m\n\u001b[1;32m     92\u001b[0m \u001b[43m                                           \u001b[49m\u001b[43mdisable_info\u001b[49m\u001b[38;5;241;43m=\u001b[39;49m\u001b[43mdisable_info\u001b[49m\u001b[43m,\u001b[49m\u001b[43m \u001b[49m\u001b[43muser\u001b[49m\u001b[38;5;241;43m=\u001b[39;49m\u001b[43musername\u001b[49m\u001b[43m,\u001b[49m\u001b[43m \u001b[49m\u001b[43mpassword\u001b[49m\u001b[38;5;241;43m=\u001b[39;49m\u001b[43mpassword\u001b[49m\u001b[43m)\u001b[49m\u001b[38;5;241;43m.\u001b[39;49m\u001b[43mread\u001b[49m\u001b[43m(\u001b[49m\u001b[43m)\u001b[49m\n\u001b[1;32m     93\u001b[0m xp_design_matrices, xp_merge \u001b[38;5;241m=\u001b[39m __generate_xp_matrices_and_merge(__FUNCTION_KEY, sampling, bp_model, rp_model)\n\u001b[1;32m     94\u001b[0m spectra_df, positions \u001b[38;5;241m=\u001b[39m __create_spectra(parsed_input_data, truncation, xp_design_matrices, xp_merge,\n\u001b[1;32m     95\u001b[0m                                          with_correlation\u001b[38;5;241m=\u001b[39mwith_correlation, disable_info\u001b[38;5;241m=\u001b[39mdisable_info)\n",
      "File \u001b[0;32m~/anaconda3/envs/pycloudy_env/lib/python3.8/site-packages/gaiaxpy/input_reader/input_reader.py:60\u001b[0m, in \u001b[0;36mInputReader.read\u001b[0;34m(self)\u001b[0m\n\u001b[1;32m     57\u001b[0m     reader \u001b[38;5;241m=\u001b[39m HDFSReader(parser, content, truncation, additional_columns\u001b[38;5;241m=\u001b[39madditional_columns, selector\u001b[38;5;241m=\u001b[39mselector,\n\u001b[1;32m     58\u001b[0m                         disable_info\u001b[38;5;241m=\u001b[39mdisable_info)\n\u001b[1;32m     59\u001b[0m \u001b[38;5;28;01melse\u001b[39;00m:\n\u001b[0;32m---> 60\u001b[0m     \u001b[38;5;28;01mraise\u001b[39;00m \u001b[38;5;167;01mValueError\u001b[39;00m(\u001b[38;5;124m'\u001b[39m\u001b[38;5;124mThe input provided does not match any of the expected input types.\u001b[39m\u001b[38;5;124m'\u001b[39m)\n\u001b[1;32m     61\u001b[0m parsed_data, extension \u001b[38;5;241m=\u001b[39m reader\u001b[38;5;241m.\u001b[39mread()\n\u001b[1;32m     62\u001b[0m extension \u001b[38;5;241m=\u001b[39m default_extension \u001b[38;5;28;01mif\u001b[39;00m extension \u001b[38;5;129;01mis\u001b[39;00m \u001b[38;5;28;01mNone\u001b[39;00m \u001b[38;5;28;01melse\u001b[39;00m extension\n",
      "\u001b[0;31mValueError\u001b[0m: The input provided does not match any of the expected input types."
     ]
    }
   ],
   "source": [
    "import numpy as np\n",
    "\n",
    "sampling = np.geomspace(330,1049.9999999999, 361)\n",
    "calibrated_spectra_geom, sampling = calibrate(f, sampling=sampling)\n",
    "calibrated_spectra_geom"
   ]
  },
  {
   "cell_type": "code",
   "execution_count": 10,
   "id": "1c5f258d-4e56-4cfb-a09f-10790ce881c1",
   "metadata": {},
   "outputs": [
    {
     "ename": "NameError",
     "evalue": "name 'df' is not defined",
     "output_type": "error",
     "traceback": [
      "\u001b[0;31m---------------------------------------------------------------------------\u001b[0m",
      "\u001b[0;31mNameError\u001b[0m                                 Traceback (most recent call last)",
      "Cell \u001b[0;32mIn[10], line 1\u001b[0m\n\u001b[0;32m----> 1\u001b[0m second_source \u001b[38;5;241m=\u001b[39m \u001b[43mdf\u001b[49m\u001b[38;5;241m.\u001b[39mdrop([\u001b[38;5;241m0\u001b[39m]) \u001b[38;5;66;03m# We'll use only the second source (sourceId 4) in the demonstration\u001b[39;00m\n\u001b[1;32m      2\u001b[0m non_truncated_spectra, sampling \u001b[38;5;241m=\u001b[39m calibrate(second_source) \u001b[38;5;66;03m# truncation is False by default\u001b[39;00m\n\u001b[1;32m      3\u001b[0m truncated_spectra, _ \u001b[38;5;241m=\u001b[39m calibrate(second_source, truncation\u001b[38;5;241m=\u001b[39m\u001b[38;5;28;01mTrue\u001b[39;00m)\n",
      "\u001b[0;31mNameError\u001b[0m: name 'df' is not defined"
     ]
    }
   ],
   "source": [
    "second_source = df.drop([0]) # We'll use only the second source (sourceId 4) in the demonstration\n",
    "non_truncated_spectra, sampling = calibrate(second_source) # truncation is False by default\n",
    "truncated_spectra, _ = calibrate(second_source, truncation=True)\n",
    "\n"
   ]
  },
  {
   "cell_type": "code",
   "execution_count": 11,
   "id": "913cf370-31c1-4492-8463-5fdd5878e22b",
   "metadata": {},
   "outputs": [],
   "source": [
    "# Import the necessary elements\n",
    "from gaiaxpy import PhotometricSystem, load_additional_systems"
   ]
  },
  {
   "cell_type": "code",
   "execution_count": 13,
   "id": "60013003-6f7b-414f-bb17-1473ff669513",
   "metadata": {},
   "outputs": [
    {
     "ename": "ValueError",
     "evalue": "No filter files found in the given directory. Please check your files.",
     "output_type": "error",
     "traceback": [
      "\u001b[0;31m---------------------------------------------------------------------------\u001b[0m",
      "\u001b[0;31mValueError\u001b[0m                                Traceback (most recent call last)",
      "Cell \u001b[0;32mIn[13], line 1\u001b[0m\n\u001b[0;32m----> 1\u001b[0m PhotometricSystem \u001b[38;5;241m=\u001b[39m \u001b[43mload_additional_systems\u001b[49m\u001b[43m(\u001b[49m\u001b[38;5;124;43m'\u001b[39;49m\u001b[38;5;124;43m../filters\u001b[39;49m\u001b[38;5;124;43m'\u001b[39;49m\u001b[43m)\u001b[49m\n",
      "File \u001b[0;32m~/anaconda3/envs/pycloudy_env/lib/python3.8/site-packages/gaiaxpy/generator/photometric_system.py:107\u001b[0m, in \u001b[0;36mload_additional_systems\u001b[0;34m(_systems_path)\u001b[0m\n\u001b[1;32m     96\u001b[0m \u001b[38;5;28;01mdef\u001b[39;00m \u001b[38;5;21mload_additional_systems\u001b[39m(_systems_path\u001b[38;5;241m=\u001b[39m\u001b[38;5;28;01mNone\u001b[39;00m):\n\u001b[1;32m     97\u001b[0m \u001b[38;5;250m    \u001b[39m\u001b[38;5;124;03m\"\"\"\u001b[39;00m\n\u001b[1;32m     98\u001b[0m \u001b[38;5;124;03m    Load additional photometric systems.\u001b[39;00m\n\u001b[1;32m     99\u001b[0m \n\u001b[0;32m   (...)\u001b[0m\n\u001b[1;32m    105\u001b[0m \u001b[38;5;124;03m        Enum: PhotometricSystem object corresponding to an enumeration of the updated available systems.\u001b[39;00m\n\u001b[1;32m    106\u001b[0m \u001b[38;5;124;03m    \"\"\"\u001b[39;00m\n\u001b[0;32m--> 107\u001b[0m     updated_enum \u001b[38;5;241m=\u001b[39m \u001b[43m__load_additional_systems\u001b[49m\u001b[43m(\u001b[49m\u001b[43m_systems_path\u001b[49m\u001b[43m,\u001b[49m\u001b[43m \u001b[49m\u001b[43m_CFG_FILE_PATH\u001b[49m\u001b[43m)\u001b[49m\n\u001b[1;32m    108\u001b[0m     updated_enum\u001b[38;5;241m.\u001b[39mget_available_systems \u001b[38;5;241m=\u001b[39m get_available_systems\n\u001b[1;32m    109\u001b[0m     \u001b[38;5;28mprint\u001b[39m(\u001b[38;5;124m'\u001b[39m\u001b[38;5;124mSystems loaded. Use PhotometricSystem.get_available_systems() to get the names of the current available\u001b[39m\u001b[38;5;124m'\u001b[39m\n\u001b[1;32m    110\u001b[0m           \u001b[38;5;124m'\u001b[39m\u001b[38;5;124m systems.\u001b[39m\u001b[38;5;124m'\u001b[39m)\n",
      "File \u001b[0;32m~/anaconda3/envs/pycloudy_env/lib/python3.8/site-packages/gaiaxpy/generator/photometric_system.py:132\u001b[0m, in \u001b[0;36m__load_additional_systems\u001b[0;34m(_filters_path, config_file)\u001b[0m\n\u001b[1;32m    129\u001b[0m     get_yes_no_answer(\u001b[38;5;124m'\u001b[39m\u001b[38;5;124mDo you want to redefine the path? [[y]/n]: \u001b[39m\u001b[38;5;124m'\u001b[39m, yes_action\u001b[38;5;241m=\u001b[39mcreate_config, no_action\u001b[38;5;241m=\u001b[39m\u001b[38;5;28;01mNone\u001b[39;00m,\n\u001b[1;32m    130\u001b[0m                       yes_args\u001b[38;5;241m=\u001b[39m_filters_path)\n\u001b[1;32m    131\u001b[0m \u001b[38;5;28;01melse\u001b[39;00m:\n\u001b[0;32m--> 132\u001b[0m     \u001b[43mcreate_config\u001b[49m\u001b[43m(\u001b[49m\u001b[43m_filters_path\u001b[49m\u001b[43m,\u001b[49m\u001b[43m \u001b[49m\u001b[43mconfig_file\u001b[49m\u001b[43m)\u001b[49m\n\u001b[1;32m    133\u001b[0m \u001b[38;5;28;01mreturn\u001b[39;00m AutoName(\u001b[38;5;124m'\u001b[39m\u001b[38;5;124mPhotometricSystem\u001b[39m\u001b[38;5;124m'\u001b[39m, _get_system_tuples())\n",
      "File \u001b[0;32m~/anaconda3/envs/pycloudy_env/lib/python3.8/site-packages/gaiaxpy/generator/config.py:78\u001b[0m, in \u001b[0;36mcreate_config\u001b[0;34m(systems_path, config_file)\u001b[0m\n\u001b[1;32m     76\u001b[0m systems_path \u001b[38;5;241m=\u001b[39m systems_path[\u001b[38;5;241m1\u001b[39m:\u001b[38;5;241m-\u001b[39m\u001b[38;5;241m1\u001b[39m] \u001b[38;5;28;01mif\u001b[39;00m systems_path[\u001b[38;5;241m0\u001b[39m] \u001b[38;5;129;01min\u001b[39;00m quotes \u001b[38;5;129;01mand\u001b[39;00m systems_path[\u001b[38;5;241m-\u001b[39m\u001b[38;5;241m1\u001b[39m] \u001b[38;5;129;01min\u001b[39;00m quotes \u001b[38;5;28;01melse\u001b[39;00m systems_path\n\u001b[1;32m     77\u001b[0m \u001b[38;5;66;03m# Get filters version\u001b[39;00m\n\u001b[0;32m---> 78\u001b[0m files \u001b[38;5;241m=\u001b[39m \u001b[43m__get_file_names_recursively\u001b[49m\u001b[43m(\u001b[49m\u001b[43msystems_path\u001b[49m\u001b[43m,\u001b[49m\u001b[43m \u001b[49m\u001b[43mshow_warning\u001b[49m\u001b[38;5;241;43m=\u001b[39;49m\u001b[38;5;28;43;01mTrue\u001b[39;49;00m\u001b[43m)\u001b[49m\n\u001b[1;32m     79\u001b[0m version \u001b[38;5;241m=\u001b[39m [f\u001b[38;5;241m.\u001b[39msplit(\u001b[38;5;124m'\u001b[39m\u001b[38;5;124m.\u001b[39m\u001b[38;5;124m'\u001b[39m)[\u001b[38;5;241m1\u001b[39m]\u001b[38;5;241m.\u001b[39msplit(\u001b[38;5;124m'\u001b[39m\u001b[38;5;124m_\u001b[39m\u001b[38;5;124m'\u001b[39m)[\u001b[38;5;241m-\u001b[39m\u001b[38;5;241m1\u001b[39m] \u001b[38;5;28;01mfor\u001b[39;00m f \u001b[38;5;129;01min\u001b[39;00m files]\n\u001b[1;32m     80\u001b[0m \u001b[38;5;28;01mif\u001b[39;00m \u001b[38;5;28mlen\u001b[39m(\u001b[38;5;28mset\u001b[39m(version)) \u001b[38;5;241m!=\u001b[39m \u001b[38;5;241m1\u001b[39m:\n",
      "File \u001b[0;32m~/anaconda3/envs/pycloudy_env/lib/python3.8/site-packages/gaiaxpy/generator/config.py:42\u001b[0m, in \u001b[0;36m__get_file_names_recursively\u001b[0;34m(dir_path, show_warning)\u001b[0m\n\u001b[1;32m     40\u001b[0m compliant_files \u001b[38;5;241m=\u001b[39m [f \u001b[38;5;28;01mfor\u001b[39;00m f \u001b[38;5;129;01min\u001b[39;00m all_files \u001b[38;5;28;01mif\u001b[39;00m __file_name_is_compliant(f)]\n\u001b[1;32m     41\u001b[0m \u001b[38;5;28;01mif\u001b[39;00m \u001b[38;5;28mlen\u001b[39m(compliant_files) \u001b[38;5;241m==\u001b[39m \u001b[38;5;241m0\u001b[39m:\n\u001b[0;32m---> 42\u001b[0m     \u001b[38;5;28;01mraise\u001b[39;00m \u001b[38;5;167;01mValueError\u001b[39;00m(\u001b[38;5;124m'\u001b[39m\u001b[38;5;124mNo filter files found in the given directory. Please check your files.\u001b[39m\u001b[38;5;124m'\u001b[39m)\n\u001b[1;32m     43\u001b[0m \u001b[38;5;28;01melif\u001b[39;00m \u001b[38;5;28mlen\u001b[39m(compliant_files) \u001b[38;5;241m<\u001b[39m \u001b[38;5;28mlen\u001b[39m(all_files) \u001b[38;5;129;01mand\u001b[39;00m show_warning:\n\u001b[1;32m     44\u001b[0m     message \u001b[38;5;241m=\u001b[39m \u001b[38;5;124m'\u001b[39m\u001b[38;5;124mBased on their names, some files in the directory do not correspond to filter files. They will be ignored.\u001b[39m\u001b[38;5;124m'\u001b[39m\n",
      "\u001b[0;31mValueError\u001b[0m: No filter files found in the given directory. Please check your files."
     ]
    }
   ],
   "source": [
    "PhotometricSystem = load_additional_systems('../filters')"
   ]
  },
  {
   "cell_type": "code",
   "execution_count": 16,
   "id": "31948553-ae23-4926-87ed-89ec30439534",
   "metadata": {},
   "outputs": [],
   "source": [
    "import numpy as np\n",
    "\n",
    "# Ejemplo de conversión para un archivo\n",
    "def convert_filter_file(file_path):\n",
    "    data = np.loadtxt(file_path)\n",
    "    # Suponiendo que las columnas son: longitud de onda, transmisión\n",
    "    np.savetxt(file_path, data[:, :2], fmt='%.1f %.6f')  # Guardar solo dos columnas\n",
    "\n",
    "# Convertir todos los archivos\n",
    "for file in os.listdir(splus_path):\n",
    "    if file.endswith('.dat'):\n",
    "        convert_filter_file(os.path.join(splus_path, file))"
   ]
  },
  {
   "cell_type": "code",
   "execution_count": 17,
   "id": "d6d0d41c-716c-4ea9-9d0a-deec11d57220",
   "metadata": {},
   "outputs": [
    {
     "name": "stdout",
     "output_type": "stream",
     "text": [
      "Contenido de ../filters/SPLUS/F0352_uJAVA.dat:\n",
      "3013.4 0.000000\n",
      "3023.4 0.000000\n",
      "3033.4 0.000000\n",
      "3043.4 0.000001\n",
      "3053.4 0.000002\n"
     ]
    }
   ],
   "source": [
    "# Verificar el primer archivo\n",
    "first_file = os.path.join(splus_path, os.listdir(splus_path)[0])\n",
    "print(f\"Contenido de {first_file}:\")\n",
    "with open(first_file, 'r') as f:\n",
    "    for i, line in enumerate(f):\n",
    "        if i < 5:  # Mostrar primeras 5 líneas\n",
    "            print(line.strip())\n",
    "        else:\n",
    "            break"
   ]
  },
  {
   "cell_type": "code",
   "execution_count": 18,
   "id": "bdfbb305-718f-4284-bdc0-154f56d696f2",
   "metadata": {},
   "outputs": [
    {
     "name": "stdout",
     "output_type": "stream",
     "text": [
      "Renombrado: F0352_uJAVA.dat -> SPLUS_u.dat\n",
      "Renombrado: F0378.dat -> SPLUS_F378.dat\n",
      "Renombrado: F0395.dat -> SPLUS_F395.dat\n",
      "Renombrado: F0410.dat -> SPLUS_F410.dat\n",
      "Renombrado: F0430.dat -> SPLUS_F430.dat\n",
      "Renombrado: F0475_gSDSS.dat -> SPLUS_g.dat\n",
      "Renombrado: F0515.dat -> SPLUS_F515.dat\n",
      "Renombrado: F0626_rSDSS.dat -> SPLUS_r.dat\n",
      "Renombrado: F0660.dat -> SPLUS_F660.dat\n",
      "Renombrado: F0769_iSDSS.dat -> SPLUS_i.dat\n",
      "Renombrado: F0861.dat -> SPLUS_F861.dat\n",
      "Renombrado: F0883_zSDSS.dat -> SPLUS_z.dat\n"
     ]
    }
   ],
   "source": [
    "import os\n",
    "import shutil\n",
    "\n",
    "# Ruta a tu directorio de filtros\n",
    "filters_dir = '../filters/SPLUS'\n",
    "\n",
    "# Mapeo de nombres antiguos a nuevos\n",
    "name_mapping = {\n",
    "    'F0352_uJAVA.dat': 'SPLUS_u.dat',\n",
    "    'F0378.dat': 'SPLUS_F378.dat',\n",
    "    'F0395.dat': 'SPLUS_F395.dat',\n",
    "    'F0410.dat': 'SPLUS_F410.dat',\n",
    "    'F0430.dat': 'SPLUS_F430.dat',\n",
    "    'F0475_gSDSS.dat': 'SPLUS_g.dat',\n",
    "    'F0515.dat': 'SPLUS_F515.dat',\n",
    "    'F0626_rSDSS.dat': 'SPLUS_r.dat',\n",
    "    'F0660.dat': 'SPLUS_F660.dat',\n",
    "    'F0769_iSDSS.dat': 'SPLUS_i.dat',\n",
    "    'F0861.dat': 'SPLUS_F861.dat',\n",
    "    'F0883_zSDSS.dat': 'SPLUS_z.dat'\n",
    "}\n",
    "\n",
    "# Renombrar archivos\n",
    "for old_name, new_name in name_mapping.items():\n",
    "    old_path = os.path.join(filters_dir, old_name)\n",
    "    new_path = os.path.join(filters_dir, new_name)\n",
    "    \n",
    "    if os.path.exists(old_path):\n",
    "        os.rename(old_path, new_path)\n",
    "        print(f'Renombrado: {old_name} -> {new_name}')\n",
    "    else:\n",
    "        print(f'Advertencia: No se encontró {old_name}')"
   ]
  },
  {
   "cell_type": "code",
   "execution_count": 19,
   "id": "f51adc35-e4ac-4abd-9ceb-a267bd306047",
   "metadata": {},
   "outputs": [
    {
     "name": "stdout",
     "output_type": "stream",
     "text": [
      "Contenido de ../filters/SPLUS/SPLUS_u.dat:\n",
      "3013.4 0.000000\n",
      "3023.4 0.000000\n",
      "3033.4 0.000000\n",
      "3043.4 0.000001\n",
      "3053.4 0.000002\n"
     ]
    }
   ],
   "source": [
    "# Verificar el formato de un archivo después del renombrado\n",
    "sample_file = os.path.join(filters_dir, 'SPLUS_u.dat')\n",
    "print(f\"Contenido de {sample_file}:\")\n",
    "with open(sample_file, 'r') as f:\n",
    "    for i, line in enumerate(f):\n",
    "        if i < 5:  # Mostrar primeras 5 líneas\n",
    "            print(line.strip())\n",
    "        else:\n",
    "            break"
   ]
  },
  {
   "cell_type": "code",
   "execution_count": 20,
   "id": "6d1b5d30-f70f-4e3f-8903-9df924818a1a",
   "metadata": {},
   "outputs": [
    {
     "name": "stdout",
     "output_type": "stream",
     "text": [
      "Error: No filter files found in the given directory. Please check your files.\n"
     ]
    }
   ],
   "source": [
    "from gaiaxpy import PhotometricSystem, load_additional_systems\n",
    "\n",
    "try:\n",
    "    PhotometricSystem = load_additional_systems('../filters')\n",
    "    available_systems = PhotometricSystem.get_available_systems()\n",
    "    print(\"Sistemas disponibles:\", available_systems)\n",
    "    \n",
    "    # Buscar sistema SPLUS\n",
    "    splus_systems = [system for system in available_systems if 'SPLUS' in system]\n",
    "    if splus_systems:\n",
    "        print(\"Sistemas SPLUS encontrados:\", splus_systems)\n",
    "    else:\n",
    "        print(\"No se encontraron sistemas SPLUS\")\n",
    "except Exception as e:\n",
    "    print(f\"Error: {e}\")"
   ]
  },
  {
   "cell_type": "code",
   "execution_count": 21,
   "id": "70e0c73e-3831-47c6-8fa8-e9199f990f8f",
   "metadata": {},
   "outputs": [
    {
     "name": "stdout",
     "output_type": "stream",
     "text": [
      "Error con uJAVA: could not convert string to float: '<?xml'\n",
      "Error con F0378: could not convert string to float: '<?xml'\n",
      "Error con F0395: could not convert string to float: '<?xml'\n",
      "Error con F0410: could not convert string to float: '<?xml'\n",
      "Error con F0430: could not convert string to float: '<?xml'\n",
      "Error con gSDSS: could not convert string to float: '<?xml'\n",
      "Error con F0515: could not convert string to float: '<?xml'\n",
      "Error con rSDSS: could not convert string to float: '<?xml'\n",
      "Error con F0660: could not convert string to float: '<?xml'\n",
      "Error con iSDSS: could not convert string to float: '<?xml'\n",
      "Error con F0861: could not convert string to float: '<?xml'\n",
      "Error con zSDSS: could not convert string to float: '<?xml'\n",
      "Descarga completada.\n"
     ]
    }
   ],
   "source": [
    "import requests\n",
    "import os\n",
    "import numpy as np\n",
    "\n",
    "# Crear directorio para los filtros SPLUS\n",
    "filters_dir = '../filters/SPLUS'\n",
    "os.makedirs(filters_dir, exist_ok=True)\n",
    "\n",
    "# Bandas SPLUS\n",
    "splus_bands = [\n",
    "    'uJAVA', 'F0378', 'F0395', 'F0410', 'F0430', \n",
    "    'gSDSS', 'F0515', 'rSDSS', 'F0660', 'iSDSS', \n",
    "    'F0861', 'zSDSS'\n",
    "]\n",
    "\n",
    "# Descargar cada filtro\n",
    "for band in splus_bands:\n",
    "    url = f\"http://svo2.cab.inta-csic.es/theory/fps/fps.php?ID=SPLUS/SPLUS.{band}\"\n",
    "    \n",
    "    try:\n",
    "        response = requests.get(url)\n",
    "        if response.status_code == 200:\n",
    "            # Parsear los datos\n",
    "            data = response.text.split('\\n')\n",
    "            wavelengths = []\n",
    "            transmissions = []\n",
    "            \n",
    "            for line in data:\n",
    "                if line and not line.startswith('#'):\n",
    "                    parts = line.split()\n",
    "                    if len(parts) >= 2:\n",
    "                        wavelengths.append(float(parts[0]))\n",
    "                        transmissions.append(float(parts[1]))\n",
    "            \n",
    "            # Guardar en formato .dat\n",
    "            filename = f\"SPLUS_{band}.dat\"\n",
    "            filepath = os.path.join(filters_dir, filename)\n",
    "            \n",
    "            with open(filepath, 'w') as f:\n",
    "                for wl, trans in zip(wavelengths, transmissions):\n",
    "                    f.write(f\"{wl} {trans}\\n\")\n",
    "            \n",
    "            print(f\"Descargado: {filename}\")\n",
    "        else:\n",
    "            print(f\"Error al descargar {band}: {response.status_code}\")\n",
    "    except Exception as e:\n",
    "        print(f\"Error con {band}: {e}\")\n",
    "\n",
    "print(\"Descarga completada.\")"
   ]
  },
  {
   "cell_type": "code",
   "execution_count": 22,
   "id": "159df866-0750-40ff-bddf-b260979367e1",
   "metadata": {},
   "outputs": [
    {
     "name": "stdout",
     "output_type": "stream",
     "text": [
      "No encontrado: F0352_uJAVA.dat\n",
      "No encontrado: F0378.dat\n",
      "No encontrado: F0395.dat\n",
      "No encontrado: F0410.dat\n",
      "No encontrado: F0430.dat\n",
      "No encontrado: F0475_gSDSS.dat\n",
      "No encontrado: F0515.dat\n",
      "No encontrado: F0626_rSDSS.dat\n",
      "No encontrado: F0660.dat\n",
      "No encontrado: F0769_iSDSS.dat\n",
      "No encontrado: F0861.dat\n",
      "No encontrado: F0883_zSDSS.dat\n",
      "Conversión completada.\n"
     ]
    }
   ],
   "source": [
    "import os\n",
    "import shutil\n",
    "import numpy as np\n",
    "\n",
    "# Directorio de origen y destino\n",
    "source_dir = '../filters/SPLUS'\n",
    "dest_dir = '../filters_splus_formatted/SPLUS'\n",
    "os.makedirs(dest_dir, exist_ok=True)\n",
    "\n",
    "# Mapeo de nombres y conversión de formato\n",
    "name_mapping = {\n",
    "    'F0352_uJAVA.dat': 'SPLUS_u.dat',\n",
    "    'F0378.dat': 'SPLUS_F0378.dat',\n",
    "    'F0395.dat': 'SPLUS_F0395.dat',\n",
    "    'F0410.dat': 'SPLUS_F0410.dat',\n",
    "    'F0430.dat': 'SPLUS_F0430.dat',\n",
    "    'F0475_gSDSS.dat': 'SPLUS_g.dat',\n",
    "    'F0515.dat': 'SPLUS_F0515.dat',\n",
    "    'F0626_rSDSS.dat': 'SPLUS_r.dat',\n",
    "    'F0660.dat': 'SPLUS_F0660.dat',\n",
    "    'F0769_iSDSS.dat': 'SPLUS_i.dat',\n",
    "    'F0861.dat': 'SPLUS_F0861.dat',\n",
    "    'F0883_zSDSS.dat': 'SPLUS_z.dat'\n",
    "}\n",
    "\n",
    "# Copiar y reformatear archivos\n",
    "for old_name, new_name in name_mapping.items():\n",
    "    old_path = os.path.join(source_dir, old_name)\n",
    "    new_path = os.path.join(dest_dir, new_name)\n",
    "    \n",
    "    if os.path.exists(old_path):\n",
    "        # Leer y reformatear el archivo\n",
    "        data = np.loadtxt(old_path)\n",
    "        \n",
    "        # Asegurarse de que solo tenemos dos columnas\n",
    "        if data.ndim == 2 and data.shape[1] >= 2:\n",
    "            np.savetxt(new_path, data[:, :2], fmt='%.1f %.6f')\n",
    "            print(f\"Convertido: {old_name} -> {new_name}\")\n",
    "        else:\n",
    "            print(f\"Formato inválido en {old_name}\")\n",
    "    else:\n",
    "        print(f\"No encontrado: {old_name}\")\n",
    "\n",
    "print(\"Conversión completada.\")"
   ]
  },
  {
   "cell_type": "code",
   "execution_count": 23,
   "id": "f6e0435a-5426-4620-ba67-7da70a5d44d7",
   "metadata": {},
   "outputs": [
    {
     "name": "stdout",
     "output_type": "stream",
     "text": [
      "No encontrado: F0352_uJAVA.dat\n",
      "No encontrado: F0378.dat\n",
      "No encontrado: F0395.dat\n",
      "No encontrado: F0410.dat\n",
      "No encontrado: F0430.dat\n",
      "No encontrado: F0475_gSDSS.dat\n",
      "No encontrado: F0515.dat\n",
      "No encontrado: F0626_rSDSS.dat\n",
      "No encontrado: F0660.dat\n",
      "No encontrado: F0769_iSDSS.dat\n",
      "No encontrado: F0861.dat\n",
      "No encontrado: F0883_zSDSS.dat\n"
     ]
    }
   ],
   "source": [
    "import numpy as np\n",
    "import os\n",
    "from astropy.table import Table\n",
    "from gaiaxpy import PhotometricSystem, load_additional_systems, generate\n",
    "\n",
    "# Crear directorio para filtros formateados\n",
    "filters_dir = '../splus_filters_formatted/SPLUS'\n",
    "os.makedirs(filters_dir, exist_ok=True)\n",
    "\n",
    "# Mapeo de nombres de filtros SPLUS (basado en tus archivos)\n",
    "filters_mapping = {\n",
    "    'F0352_uJAVA.dat': 'SPLUS_u.dat',\n",
    "    'F0378.dat': 'SPLUS_F0378.dat',\n",
    "    'F0395.dat': 'SPLUS_F0395.dat',\n",
    "    'F0410.dat': 'SPLUS_F0410.dat',\n",
    "    'F0430.dat': 'SPLUS_F0430.dat',\n",
    "    'F0475_gSDSS.dat': 'SPLUS_g.dat',\n",
    "    'F0515.dat': 'SPLUS_F0515.dat',\n",
    "    'F0626_rSDSS.dat': 'SPLUS_r.dat',\n",
    "    'F0660.dat': 'SPLUS_F0660.dat',\n",
    "    'F0769_iSDSS.dat': 'SPLUS_i.dat',\n",
    "    'F0861.dat': 'SPLUS_F0861.dat',\n",
    "    'F0883_zSDSS.dat': 'SPLUS_z.dat'\n",
    "}\n",
    "\n",
    "# Reformatear los filtros\n",
    "for old_name, new_name in filters_mapping.items():\n",
    "    old_path = f'../filters/SPLUS/{old_name}'\n",
    "    new_path = f'{filters_dir}/{new_name}'\n",
    "    \n",
    "    if os.path.exists(old_path):\n",
    "        # Leer y reformatear el archivo\n",
    "        data = np.loadtxt(old_path)\n",
    "        \n",
    "        # Asegurarse de que solo tenemos dos columnas (longitud de onda, transmisión)\n",
    "        if data.ndim == 2 and data.shape[1] >= 2:\n",
    "            np.savetxt(new_path, data[:, :2], fmt='%.1f %.6f')\n",
    "            print(f\"Convertido: {old_name} -> {new_name}\")\n",
    "        else:\n",
    "            print(f\"Formato inválido en {old_name}\")\n",
    "    else:\n",
    "        print(f\"No encontrado: {old_name}\")"
   ]
  },
  {
   "cell_type": "code",
   "execution_count": 26,
   "id": "6ed806b4-c61b-4fc6-b9d7-d9093b0e90eb",
   "metadata": {},
   "outputs": [
    {
     "name": "stdout",
     "output_type": "stream",
     "text": [
      "Error al cargar filtros: No filter files found in the given directory. Please check your files.\n"
     ]
    }
   ],
   "source": [
    "# Cargar sistemas adicionales\n",
    "try:\n",
    "    PhotometricSystem = load_additional_systems('../filters')\n",
    "    available_systems = PhotometricSystem.get_available_systems()\n",
    "    print(\"Sistemas disponibles:\", available_systems)\n",
    "    \n",
    "    # Identificar el sistema SPLUS\n",
    "    splus_system = None\n",
    "    for system in available_systems:\n",
    "        if 'SPLUS' in system:\n",
    "            splus_system = getattr(PhotometricSystem, system)\n",
    "            break\n",
    "    \n",
    "    if splus_system:\n",
    "        print(f\"Sistema SPLUS cargado: {splus_system}\")\n",
    "    else:\n",
    "        raise ValueError(\"No se pudo cargar el sistema SPLUS\")\n",
    "        \n",
    "except Exception as e:\n",
    "    print(f\"Error al cargar filtros: {e}\")"
   ]
  },
  {
   "cell_type": "code",
   "execution_count": 1,
   "id": "4cbdca91-b21f-4867-8d89-a1e4791cd433",
   "metadata": {},
   "outputs": [
    {
     "name": "stdout",
     "output_type": "stream",
     "text": [
      "500 Error 500:..\n",
      "Linking parameter is null\n",
      "\n",
      "Cannot process request: 'https://gea.esac.esa.int/data-server/data' (req: Reqid: anonymous1757459624957, retrieval access: DIRECT, retrieval type: XP_CONTINUOUS, compression: null), for user: UwsJobOwner{id='anonymous', name='null', mail='null', authUsername='null', authGroups=[], pseudo='anonymous', session='EC057AC2C6EB0109579FEEB51A431663', ip='189.6.141.144', roles=0, parameters=Owner parameters: 6},  due to: Linking parameter is null\n"
     ]
    },
    {
     "ename": "HTTPError",
     "evalue": "Error 500:\nLinking parameter is null\n\nCannot process request: 'https://gea.esac.esa.int/data-server/data' (req: Reqid: anonymous1757459624957, retrieval access: DIRECT, retrieval type: XP_CONTINUOUS, compression: null), for user: UwsJobOwner{id='anonymous', name='null', mail='null', authUsername='null', authGroups=[], pseudo='anonymous', session='EC057AC2C6EB0109579FEEB51A431663', ip='189.6.141.144', roles=0, parameters=Owner parameters: 6},  due to: Linking parameter is null",
     "output_type": "error",
     "traceback": [
      "\u001b[0;31m---------------------------------------------------------------------------\u001b[0m",
      "\u001b[0;31mHTTPError\u001b[0m                                 Traceback (most recent call last)",
      "Cell \u001b[0;32mIn[1], line 8\u001b[0m\n\u001b[1;32m      4\u001b[0m source_ids \u001b[38;5;241m=\u001b[39m [\u001b[38;5;124m'\u001b[39m\u001b[38;5;124mGaia DR3 source ID 1\u001b[39m\u001b[38;5;124m'\u001b[39m, \u001b[38;5;124m'\u001b[39m\u001b[38;5;124mGaia DR3 source ID 2\u001b[39m\u001b[38;5;124m'\u001b[39m]\n\u001b[1;32m      6\u001b[0m \u001b[38;5;66;03m# Download and calibrate the spectra to the absolute flux system\u001b[39;00m\n\u001b[1;32m      7\u001b[0m \u001b[38;5;66;03m# The output will be a pandas DataFrame containing the calibrated spectra\u001b[39;00m\n\u001b[0;32m----> 8\u001b[0m calibrated_spectra \u001b[38;5;241m=\u001b[39m \u001b[43mcalibrate\u001b[49m\u001b[43m(\u001b[49m\u001b[43msource_ids\u001b[49m\u001b[43m)\u001b[49m\n",
      "File \u001b[0;32m~/anaconda3/envs/pycloudy_env/lib/python3.8/site-packages/gaiaxpy/calibrator/calibrator.py:65\u001b[0m, in \u001b[0;36mcalibrate\u001b[0;34m(input_object, sampling, truncation, output_path, output_file, output_format, save_file, with_correlation, username, password)\u001b[0m\n\u001b[1;32m     34\u001b[0m \u001b[38;5;28;01mdef\u001b[39;00m \u001b[38;5;21mcalibrate\u001b[39m(input_object: Union[\u001b[38;5;28mlist\u001b[39m, Path, \u001b[38;5;28mstr\u001b[39m], sampling: np\u001b[38;5;241m.\u001b[39mndarray \u001b[38;5;241m=\u001b[39m \u001b[38;5;28;01mNone\u001b[39;00m, truncation: \u001b[38;5;28mbool\u001b[39m \u001b[38;5;241m=\u001b[39m \u001b[38;5;28;01mFalse\u001b[39;00m,\n\u001b[1;32m     35\u001b[0m               output_path: Union[Path, \u001b[38;5;28mstr\u001b[39m] \u001b[38;5;241m=\u001b[39m \u001b[38;5;124m'\u001b[39m\u001b[38;5;124m.\u001b[39m\u001b[38;5;124m'\u001b[39m, output_file: \u001b[38;5;28mstr\u001b[39m \u001b[38;5;241m=\u001b[39m \u001b[38;5;124m'\u001b[39m\u001b[38;5;124moutput_spectra\u001b[39m\u001b[38;5;124m'\u001b[39m, output_format: \u001b[38;5;28mstr\u001b[39m \u001b[38;5;241m=\u001b[39m \u001b[38;5;28;01mNone\u001b[39;00m,\n\u001b[1;32m     36\u001b[0m               save_file: \u001b[38;5;28mbool\u001b[39m \u001b[38;5;241m=\u001b[39m \u001b[38;5;28;01mTrue\u001b[39;00m, with_correlation: \u001b[38;5;28mbool\u001b[39m \u001b[38;5;241m=\u001b[39m \u001b[38;5;28;01mFalse\u001b[39;00m, username: \u001b[38;5;28mstr\u001b[39m \u001b[38;5;241m=\u001b[39m \u001b[38;5;28;01mNone\u001b[39;00m, password: \u001b[38;5;28mstr\u001b[39m \u001b[38;5;241m=\u001b[39m \u001b[38;5;28;01mNone\u001b[39;00m) \u001b[38;5;241m-\u001b[39m\u001b[38;5;241m>\u001b[39m \\\n\u001b[1;32m     37\u001b[0m         (pd\u001b[38;5;241m.\u001b[39mDataFrame, np\u001b[38;5;241m.\u001b[39mndarray):\n\u001b[1;32m     38\u001b[0m \u001b[38;5;250m    \u001b[39m\u001b[38;5;124;03m\"\"\"\u001b[39;00m\n\u001b[1;32m     39\u001b[0m \u001b[38;5;124;03m    Calibration utility: calibrates the input internally-calibrated continuously-represented mean spectra to the\u001b[39;00m\n\u001b[1;32m     40\u001b[0m \u001b[38;5;124;03m    absolute system. An absolute spectrum sampled on a user-defined or default wavelength grid is created for each set\u001b[39;00m\n\u001b[0;32m   (...)\u001b[0m\n\u001b[1;32m     63\u001b[0m \u001b[38;5;124;03m            ndarray: The sampling used to calibrate the input spectra (user-provided or default).\u001b[39;00m\n\u001b[1;32m     64\u001b[0m \u001b[38;5;124;03m    \"\"\"\u001b[39;00m\n\u001b[0;32m---> 65\u001b[0m     \u001b[38;5;28;01mreturn\u001b[39;00m \u001b[43m_calibrate\u001b[49m\u001b[43m(\u001b[49m\u001b[43minput_object\u001b[49m\u001b[43m,\u001b[49m\u001b[43m \u001b[49m\u001b[43msampling\u001b[49m\u001b[43m,\u001b[49m\u001b[43m \u001b[49m\u001b[43mtruncation\u001b[49m\u001b[43m,\u001b[49m\u001b[43m \u001b[49m\u001b[43moutput_path\u001b[49m\u001b[43m,\u001b[49m\u001b[43m \u001b[49m\u001b[43moutput_file\u001b[49m\u001b[43m,\u001b[49m\u001b[43m \u001b[49m\u001b[43moutput_format\u001b[49m\u001b[43m,\u001b[49m\u001b[43m \u001b[49m\u001b[43msave_file\u001b[49m\u001b[43m,\u001b[49m\n\u001b[1;32m     66\u001b[0m \u001b[43m                      \u001b[49m\u001b[43mwith_correlation\u001b[49m\u001b[38;5;241;43m=\u001b[39;49m\u001b[43mwith_correlation\u001b[49m\u001b[43m,\u001b[49m\u001b[43m \u001b[49m\u001b[43musername\u001b[49m\u001b[38;5;241;43m=\u001b[39;49m\u001b[43musername\u001b[49m\u001b[43m,\u001b[49m\u001b[43m \u001b[49m\u001b[43mpassword\u001b[49m\u001b[38;5;241;43m=\u001b[39;49m\u001b[43mpassword\u001b[49m\u001b[43m)\u001b[49m\n",
      "File \u001b[0;32m~/anaconda3/envs/pycloudy_env/lib/python3.8/site-packages/gaiaxpy/calibrator/calibrator.py:91\u001b[0m, in \u001b[0;36m_calibrate\u001b[0;34m(input_object, sampling, truncation, output_path, output_file, output_format, save_file, with_correlation, username, password, bp_model, rp_model, disable_info)\u001b[0m\n\u001b[1;32m     88\u001b[0m validate_wl_sampling(sampling)\n\u001b[1;32m     89\u001b[0m validate_save_arguments(_calibrate\u001b[38;5;241m.\u001b[39m\u001b[38;5;18m__defaults__\u001b[39m[\u001b[38;5;241m3\u001b[39m], output_file, _calibrate\u001b[38;5;241m.\u001b[39m\u001b[38;5;18m__defaults__\u001b[39m[\u001b[38;5;241m4\u001b[39m], output_format,\n\u001b[1;32m     90\u001b[0m                         save_file)\n\u001b[0;32m---> 91\u001b[0m parsed_input_data, extension \u001b[38;5;241m=\u001b[39m \u001b[43mInputReader\u001b[49m\u001b[43m(\u001b[49m\u001b[43minput_object\u001b[49m\u001b[43m,\u001b[49m\u001b[43m \u001b[49m\u001b[43m_calibrate\u001b[49m\u001b[43m,\u001b[49m\u001b[43m \u001b[49m\u001b[43mtruncation\u001b[49m\u001b[38;5;241;43m=\u001b[39;49m\u001b[43mtruncation\u001b[49m\u001b[43m,\u001b[49m\n\u001b[1;32m     92\u001b[0m \u001b[43m                                           \u001b[49m\u001b[43mdisable_info\u001b[49m\u001b[38;5;241;43m=\u001b[39;49m\u001b[43mdisable_info\u001b[49m\u001b[43m,\u001b[49m\u001b[43m \u001b[49m\u001b[43muser\u001b[49m\u001b[38;5;241;43m=\u001b[39;49m\u001b[43musername\u001b[49m\u001b[43m,\u001b[49m\u001b[43m \u001b[49m\u001b[43mpassword\u001b[49m\u001b[38;5;241;43m=\u001b[39;49m\u001b[43mpassword\u001b[49m\u001b[43m)\u001b[49m\u001b[38;5;241;43m.\u001b[39;49m\u001b[43mread\u001b[49m\u001b[43m(\u001b[49m\u001b[43m)\u001b[49m\n\u001b[1;32m     93\u001b[0m xp_design_matrices, xp_merge \u001b[38;5;241m=\u001b[39m __generate_xp_matrices_and_merge(__FUNCTION_KEY, sampling, bp_model, rp_model)\n\u001b[1;32m     94\u001b[0m spectra_df, positions \u001b[38;5;241m=\u001b[39m __create_spectra(parsed_input_data, truncation, xp_design_matrices, xp_merge,\n\u001b[1;32m     95\u001b[0m                                          with_correlation\u001b[38;5;241m=\u001b[39mwith_correlation, disable_info\u001b[38;5;241m=\u001b[39mdisable_info)\n",
      "File \u001b[0;32m~/anaconda3/envs/pycloudy_env/lib/python3.8/site-packages/gaiaxpy/input_reader/input_reader.py:61\u001b[0m, in \u001b[0;36mInputReader.read\u001b[0;34m(self)\u001b[0m\n\u001b[1;32m     59\u001b[0m \u001b[38;5;28;01melse\u001b[39;00m:\n\u001b[1;32m     60\u001b[0m     \u001b[38;5;28;01mraise\u001b[39;00m \u001b[38;5;167;01mValueError\u001b[39;00m(\u001b[38;5;124m'\u001b[39m\u001b[38;5;124mThe input provided does not match any of the expected input types.\u001b[39m\u001b[38;5;124m'\u001b[39m)\n\u001b[0;32m---> 61\u001b[0m parsed_data, extension \u001b[38;5;241m=\u001b[39m \u001b[43mreader\u001b[49m\u001b[38;5;241;43m.\u001b[39;49m\u001b[43mread\u001b[49m\u001b[43m(\u001b[49m\u001b[43m)\u001b[49m\n\u001b[1;32m     62\u001b[0m extension \u001b[38;5;241m=\u001b[39m default_extension \u001b[38;5;28;01mif\u001b[39;00m extension \u001b[38;5;129;01mis\u001b[39;00m \u001b[38;5;28;01mNone\u001b[39;00m \u001b[38;5;28;01melse\u001b[39;00m extension\n\u001b[1;32m     63\u001b[0m \u001b[38;5;28;01mreturn\u001b[39;00m parsed_data, extension\n",
      "File \u001b[0;32m~/anaconda3/envs/pycloudy_env/lib/python3.8/site-packages/gaiaxpy/input_reader/list_reader.py:47\u001b[0m, in \u001b[0;36mListReader.read\u001b[0;34m(self, _data_release)\u001b[0m\n\u001b[1;32m     45\u001b[0m \u001b[38;5;28;01mif\u001b[39;00m \u001b[38;5;129;01mnot\u001b[39;00m \u001b[38;5;28mself\u001b[39m\u001b[38;5;241m.\u001b[39mdisable_info:\n\u001b[1;32m     46\u001b[0m     \u001b[38;5;28mself\u001b[39m\u001b[38;5;241m.\u001b[39mshow_info_msg()\n\u001b[0;32m---> 47\u001b[0m result \u001b[38;5;241m=\u001b[39m \u001b[43mgaia\u001b[49m\u001b[38;5;241;43m.\u001b[39;49m\u001b[43mload_data\u001b[49m\u001b[43m(\u001b[49m\u001b[43mids\u001b[49m\u001b[38;5;241;43m=\u001b[39;49m\u001b[43msources\u001b[49m\u001b[43m,\u001b[49m\u001b[43m \u001b[49m\u001b[38;5;28;43mformat\u001b[39;49m\u001b[38;5;241;43m=\u001b[39;49m\u001b[38;5;124;43m'\u001b[39;49m\u001b[38;5;124;43mcsv\u001b[39;49m\u001b[38;5;124;43m'\u001b[39;49m\u001b[43m,\u001b[49m\u001b[43m \u001b[49m\u001b[43mdata_release\u001b[49m\u001b[38;5;241;43m=\u001b[39;49m\u001b[43m_data_release\u001b[49m\u001b[43m,\u001b[49m\u001b[43m \u001b[49m\u001b[43mdata_structure\u001b[49m\u001b[38;5;241;43m=\u001b[39;49m\u001b[38;5;124;43m'\u001b[39;49m\u001b[38;5;124;43mraw\u001b[39;49m\u001b[38;5;124;43m'\u001b[39;49m\u001b[43m,\u001b[49m\n\u001b[1;32m     48\u001b[0m \u001b[43m                        \u001b[49m\u001b[43mretrieval_type\u001b[49m\u001b[38;5;241;43m=\u001b[39;49m\u001b[38;5;124;43m'\u001b[39;49m\u001b[38;5;124;43mXP_CONTINUOUS\u001b[39;49m\u001b[38;5;124;43m'\u001b[39;49m\u001b[43m,\u001b[49m\u001b[43m \u001b[49m\u001b[43mavoid_datatype_check\u001b[49m\u001b[38;5;241;43m=\u001b[39;49m\u001b[38;5;28;43;01mTrue\u001b[39;49;00m\u001b[43m)\u001b[49m\n\u001b[1;32m     49\u001b[0m \u001b[38;5;28;01mtry\u001b[39;00m:\n\u001b[1;32m     50\u001b[0m     continuous_key \u001b[38;5;241m=\u001b[39m [key \u001b[38;5;28;01mfor\u001b[39;00m key \u001b[38;5;129;01min\u001b[39;00m result\u001b[38;5;241m.\u001b[39mkeys() \u001b[38;5;28;01mif\u001b[39;00m \u001b[38;5;124m'\u001b[39m\u001b[38;5;124mcontinuous\u001b[39m\u001b[38;5;124m'\u001b[39m \u001b[38;5;129;01min\u001b[39;00m key\u001b[38;5;241m.\u001b[39mlower()][\u001b[38;5;241m0\u001b[39m]\n",
      "File \u001b[0;32m~/anaconda3/envs/pycloudy_env/lib/python3.8/site-packages/astroquery/gaia/core.py:313\u001b[0m, in \u001b[0;36mGaiaClass.load_data\u001b[0;34m(self, ids, data_release, data_structure, retrieval_type, linking_parameter, valid_data, band, avoid_datatype_check, format, output_file, overwrite_output_file, verbose)\u001b[0m\n\u001b[1;32m    311\u001b[0m     files \u001b[38;5;241m=\u001b[39m Gaia\u001b[38;5;241m.\u001b[39m__get_data_files(output_file\u001b[38;5;241m=\u001b[39moutput_file, path\u001b[38;5;241m=\u001b[39mpath)\n\u001b[1;32m    312\u001b[0m \u001b[38;5;28;01mexcept\u001b[39;00m \u001b[38;5;167;01mException\u001b[39;00m \u001b[38;5;28;01mas\u001b[39;00m err:\n\u001b[0;32m--> 313\u001b[0m     \u001b[38;5;28;01mraise\u001b[39;00m err\n\u001b[1;32m    314\u001b[0m \u001b[38;5;28;01mfinally\u001b[39;00m:\n\u001b[1;32m    315\u001b[0m     \u001b[38;5;28;01mif\u001b[39;00m \u001b[38;5;129;01mnot\u001b[39;00m output_file_specified:\n",
      "File \u001b[0;32m~/anaconda3/envs/pycloudy_env/lib/python3.8/site-packages/astroquery/gaia/core.py:308\u001b[0m, in \u001b[0;36mGaiaClass.load_data\u001b[0;34m(self, ids, data_release, data_structure, retrieval_type, linking_parameter, valid_data, band, avoid_datatype_check, format, output_file, overwrite_output_file, verbose)\u001b[0m\n\u001b[1;32m    305\u001b[0m         log\u001b[38;5;241m.\u001b[39merror(\u001b[38;5;124m\"\u001b[39m\u001b[38;5;124mCreation of the directory \u001b[39m\u001b[38;5;132;01m%s\u001b[39;00m\u001b[38;5;124m failed\u001b[39m\u001b[38;5;124m\"\u001b[39m \u001b[38;5;241m%\u001b[39m path)\n\u001b[1;32m    307\u001b[0m \u001b[38;5;28;01mtry\u001b[39;00m:\n\u001b[0;32m--> 308\u001b[0m     \u001b[38;5;28;43mself\u001b[39;49m\u001b[38;5;241;43m.\u001b[39;49m\u001b[43m__gaiadata\u001b[49m\u001b[38;5;241;43m.\u001b[39;49m\u001b[43mload_data\u001b[49m\u001b[43m(\u001b[49m\u001b[43mparams_dict\u001b[49m\u001b[38;5;241;43m=\u001b[39;49m\u001b[43mparams_dict\u001b[49m\u001b[43m,\u001b[49m\n\u001b[1;32m    309\u001b[0m \u001b[43m                              \u001b[49m\u001b[43moutput_file\u001b[49m\u001b[38;5;241;43m=\u001b[39;49m\u001b[43moutput_file\u001b[49m\u001b[43m,\u001b[49m\n\u001b[1;32m    310\u001b[0m \u001b[43m                              \u001b[49m\u001b[43mverbose\u001b[49m\u001b[38;5;241;43m=\u001b[39;49m\u001b[43mverbose\u001b[49m\u001b[43m)\u001b[49m\n\u001b[1;32m    311\u001b[0m     files \u001b[38;5;241m=\u001b[39m Gaia\u001b[38;5;241m.\u001b[39m__get_data_files(output_file\u001b[38;5;241m=\u001b[39moutput_file, path\u001b[38;5;241m=\u001b[39mpath)\n\u001b[1;32m    312\u001b[0m \u001b[38;5;28;01mexcept\u001b[39;00m \u001b[38;5;167;01mException\u001b[39;00m \u001b[38;5;28;01mas\u001b[39;00m err:\n",
      "File \u001b[0;32m~/anaconda3/envs/pycloudy_env/lib/python3.8/site-packages/astroquery/utils/tap/core.py:868\u001b[0m, in \u001b[0;36mTapPlus.load_data\u001b[0;34m(self, params_dict, output_file, verbose)\u001b[0m\n\u001b[1;32m    866\u001b[0m \u001b[38;5;28;01mif\u001b[39;00m verbose:\n\u001b[1;32m    867\u001b[0m     \u001b[38;5;28mprint\u001b[39m(response\u001b[38;5;241m.\u001b[39mstatus, response\u001b[38;5;241m.\u001b[39mreason)\n\u001b[0;32m--> 868\u001b[0m \u001b[43mconnHandler\u001b[49m\u001b[38;5;241;43m.\u001b[39;49m\u001b[43mcheck_launch_response_status\u001b[49m\u001b[43m(\u001b[49m\u001b[43mresponse\u001b[49m\u001b[43m,\u001b[49m\n\u001b[1;32m    869\u001b[0m \u001b[43m                                         \u001b[49m\u001b[43mverbose\u001b[49m\u001b[43m,\u001b[49m\n\u001b[1;32m    870\u001b[0m \u001b[43m                                         \u001b[49m\u001b[38;5;241;43m200\u001b[39;49m\u001b[43m)\u001b[49m\n\u001b[1;32m    871\u001b[0m \u001b[38;5;28;01mif\u001b[39;00m verbose:\n\u001b[1;32m    872\u001b[0m     \u001b[38;5;28mprint\u001b[39m(\u001b[38;5;124m\"\u001b[39m\u001b[38;5;124mReading...\u001b[39m\u001b[38;5;124m\"\u001b[39m)\n",
      "File \u001b[0;32m~/anaconda3/envs/pycloudy_env/lib/python3.8/site-packages/astroquery/utils/tap/conn/tapconn.py:672\u001b[0m, in \u001b[0;36mTapConn.check_launch_response_status\u001b[0;34m(self, response, debug, expected_response_status, raise_exception)\u001b[0m\n\u001b[1;32m    670\u001b[0m     errMsg \u001b[38;5;241m=\u001b[39m taputils\u001b[38;5;241m.\u001b[39mget_http_response_error(response)\n\u001b[1;32m    671\u001b[0m     \u001b[38;5;28mprint\u001b[39m(response\u001b[38;5;241m.\u001b[39mstatus, errMsg)\n\u001b[0;32m--> 672\u001b[0m     \u001b[38;5;28;01mraise\u001b[39;00m requests\u001b[38;5;241m.\u001b[39mexceptions\u001b[38;5;241m.\u001b[39mHTTPError(errMsg)\n\u001b[1;32m    673\u001b[0m \u001b[38;5;28;01melse\u001b[39;00m:\n\u001b[1;32m    674\u001b[0m     \u001b[38;5;28;01mreturn\u001b[39;00m isError\n",
      "\u001b[0;31mHTTPError\u001b[0m: Error 500:\nLinking parameter is null\n\nCannot process request: 'https://gea.esac.esa.int/data-server/data' (req: Reqid: anonymous1757459624957, retrieval access: DIRECT, retrieval type: XP_CONTINUOUS, compression: null), for user: UwsJobOwner{id='anonymous', name='null', mail='null', authUsername='null', authGroups=[], pseudo='anonymous', session='EC057AC2C6EB0109579FEEB51A431663', ip='189.6.141.144', roles=0, parameters=Owner parameters: 6},  due to: Linking parameter is null"
     ]
    }
   ],
   "source": [
    "from gaiaxpy import calibrate\n",
    "\n",
    "# Replace with the Gaia source IDs for which you want to download spectra\n",
    "source_ids = ['Gaia DR3 source ID 1', 'Gaia DR3 source ID 2']\n",
    "\n",
    "# Download and calibrate the spectra to the absolute flux system\n",
    "# The output will be a pandas DataFrame containing the calibrated spectra\n",
    "calibrated_spectra = calibrate(source_ids)\n",
    "\n",
    "# You can also convert the continuous representation to sampled spectra\n",
    "# sampled_spectra = convert(source_ids)"
   ]
  },
  {
   "cell_type": "code",
   "execution_count": null,
   "id": "58484650-6e41-407d-a1db-a668799d0a9f",
   "metadata": {},
   "outputs": [],
   "source": []
  }
 ],
 "metadata": {
  "kernelspec": {
   "display_name": "Python 3 (ipykernel)",
   "language": "python",
   "name": "python3"
  },
  "language_info": {
   "codemirror_mode": {
    "name": "ipython",
    "version": 3
   },
   "file_extension": ".py",
   "mimetype": "text/x-python",
   "name": "python",
   "nbconvert_exporter": "python",
   "pygments_lexer": "ipython3",
   "version": "3.8.20"
  }
 },
 "nbformat": 4,
 "nbformat_minor": 5
}

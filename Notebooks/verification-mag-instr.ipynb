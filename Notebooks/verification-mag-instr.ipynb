{
 "cells": [
  {
   "cell_type": "code",
   "execution_count": 6,
   "id": "f046bf4d-d849-4a6d-a61f-8360c28f277d",
   "metadata": {},
   "outputs": [
    {
     "name": "stdout",
     "output_type": "stream",
     "text": [
      "COMPARACIÓN ENTRE CAMPOS:\n",
      "F378: CenA01=-1.75, CenA02=-2.11, diff=0.358\n",
      "F395: CenA01=-1.89, CenA02=-2.10, diff=0.218\n",
      "F410: CenA01=-3.62, CenA02=-3.76, diff=0.145\n",
      "F430: CenA01=-3.99, CenA02=-4.13, diff=0.142\n",
      "F515: CenA01=-5.02, CenA02=-5.06, diff=0.035\n",
      "F660: CenA01=-5.07, CenA02=-5.16, diff=0.093\n",
      "F861: CenA01=-5.80, CenA02=-5.83, diff=0.029\n"
     ]
    }
   ],
   "source": [
    "import pandas as pd\n",
    "import numpy as np\n",
    "\n",
    "# Cargar los resultados y verificar consistencia\n",
    "df1 = pd.read_csv('../anac_data/CenA01_gaia_xp_matches_splus_improved.csv')\n",
    "df2 = pd.read_csv('../anac_data/CenA02_gaia_xp_matches_splus_improved.csv')\n",
    "\n",
    "print(\"COMPARACIÓN ENTRE CAMPOS:\")\n",
    "for band in ['F378', 'F395', 'F410', 'F430', 'F515', 'F660', 'F861']:\n",
    "    mag_col = f'mag_inst_total_{band}'\n",
    "    if mag_col in df1.columns and mag_col in df2.columns:\n",
    "        median1 = df1[mag_col].median()\n",
    "        median2 = df2[mag_col].median()\n",
    "        diff = median1 - median2\n",
    "        print(f\"{band}: CenA01={median1:.2f}, CenA02={median2:.2f}, diff={diff:.3f}\")"
   ]
  },
  {
   "cell_type": "code",
   "execution_count": 7,
   "id": "f38405fa-9b67-4608-abab-d254e0ba7126",
   "metadata": {},
   "outputs": [
    {
     "name": "stdout",
     "output_type": "stream",
     "text": [
      "Archivo de zero-points no encontrado. Ejecuta primero ZeroPoints_calculations.py\n"
     ]
    }
   ],
   "source": [
    "def check_zp_consistency():\n",
    "    \"\"\"Verifica la consistencia de zero-points entre campos\"\"\"\n",
    "    try:\n",
    "        # Cargar zero-points calculados\n",
    "        zp_file = \"../all_fields_zero_points_detailed.csv\"\n",
    "        df_zp = pd.read_csv(zp_file)\n",
    "        \n",
    "        print(\"CONSISTENCIA DE ZERO-POINTS ENTRE CAMPOS:\")\n",
    "        print(\"=\"*50)\n",
    "        \n",
    "        for filter_name in ['F378', 'F395', 'F410', 'F430', 'F515', 'F660', 'F861']:\n",
    "            zp_values = df_zp[f'ZP_{filter_name}'].dropna()\n",
    "            if len(zp_values) > 1:\n",
    "                mean_zp = zp_values.mean()\n",
    "                std_zp = zp_values.std()\n",
    "                min_zp = zp_values.min()\n",
    "                max_zp = zp_values.max()\n",
    "                range_zp = max_zp - min_zp\n",
    "                \n",
    "                print(f\"{filter_name}: Mean={mean_zp:.3f}, Std={std_zp:.3f}, Range={range_zp:.3f}\")\n",
    "                \n",
    "                if std_zp < 0.1:\n",
    "                    print(f\"  ✅ Excelente consistencia (std < 0.1)\")\n",
    "                elif std_zp < 0.2:\n",
    "                    print(f\"  ✅ Buena consistencia (std < 0.2)\")\n",
    "                else:\n",
    "                    print(f\"  ⚠️  Consistencia moderada (std ≥ 0.2)\")\n",
    "                    \n",
    "    except FileNotFoundError:\n",
    "        print(\"Archivo de zero-points no encontrado. Ejecuta primero ZeroPoints_calculations.py\")\n",
    "\n",
    "if __name__ == \"__main__\":\n",
    "    check_zp_consistency()"
   ]
  },
  {
   "cell_type": "code",
   "execution_count": null,
   "id": "1d9dc83d-cf9b-4517-b248-2aee2e609f8f",
   "metadata": {},
   "outputs": [],
   "source": []
  }
 ],
 "metadata": {
  "kernelspec": {
   "display_name": "Python 3 (ipykernel)",
   "language": "python",
   "name": "python3"
  },
  "language_info": {
   "codemirror_mode": {
    "name": "ipython",
    "version": 3
   },
   "file_extension": ".py",
   "mimetype": "text/x-python",
   "name": "python",
   "nbconvert_exporter": "python",
   "pygments_lexer": "ipython3",
   "version": "3.8.20"
  }
 },
 "nbformat": 4,
 "nbformat_minor": 5
}
